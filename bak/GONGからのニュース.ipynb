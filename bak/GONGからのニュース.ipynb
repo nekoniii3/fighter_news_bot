{
  "nbformat": 4,
  "nbformat_minor": 0,
  "metadata": {
    "colab": {
      "provenance": [],
      "authorship_tag": "ABX9TyO+AkYQIuSO+CjJ9W9x80NC",
      "include_colab_link": true
    },
    "kernelspec": {
      "name": "python3",
      "display_name": "Python 3"
    },
    "language_info": {
      "name": "python"
    }
  },
  "cells": [
    {
      "cell_type": "markdown",
      "metadata": {
        "id": "view-in-github",
        "colab_type": "text"
      },
      "source": [
        "<a href=\"https://colab.research.google.com/github/nekoniii3/fighter_news_bot/blob/main/bak/GONG%E3%81%8B%E3%82%89%E3%81%AE%E3%83%8B%E3%83%A5%E3%83%BC%E3%82%B9.ipynb\" target=\"_parent\"><img src=\"https://colab.research.google.com/assets/colab-badge.svg\" alt=\"Open In Colab\"/></a>"
      ]
    },
    {
      "cell_type": "markdown",
      "source": [
        "# **Gongからのニュース一覧を取得します<br>**\n",
        "https://gonkaku.jp/news?category=mma"
      ],
      "metadata": {
        "id": "poLWGgx-NJ82"
      }
    },
    {
      "cell_type": "code",
      "execution_count": 2,
      "metadata": {
        "id": "hGZo9CmB3ytV"
      },
      "outputs": [],
      "source": [
        "import requests\n",
        "from bs4 import BeautifulSoup\n",
        "import pandas as pd\n",
        "import re\n",
        "import datetime\n",
        "\n",
        "# GONGからのニュースを取得（5件程度）\n",
        "def gong_topic():\n",
        "\n",
        "  URL = \"https://gonkaku.jp/news?category=mma\"\n",
        "\n",
        "  DOMAIN = \"https://gonkaku.jp\"\n",
        "\n",
        "  # 日付のフォーマット\n",
        "  DT_PATTERN = r'\\d{4}.\\d{2}.\\d{2}'\n",
        "\n",
        "  # 今日の日本の時間を取得しておく\n",
        "  t_delta = datetime.timedelta(hours=9)\n",
        "  JST = datetime.timezone(t_delta, 'JST')\n",
        "  dt_today = datetime.datetime.now(JST)\n",
        "\n",
        "  # HTMLの取得先として当サイトを指定する\n",
        "  response = requests.get(URL)\n",
        "\n",
        "  # BeautifulSoup4でサイトのテキストを取得し、\n",
        "  # 第二因数にhtml.parserを指定、解析結果をsoupに入れる\n",
        "  response.encoding = response.apparent_encoding\n",
        "\n",
        "  # print(response.text)\n",
        "  soup = BeautifulSoup(response.text,'html.parser')\n",
        "\n",
        "  # ニュースの欄を取得（ランキングを除くため）\n",
        "  # ※広告で2つに分かれているが最初のブロックだけ取得\n",
        "  news = soup.find(\"ul\", class_=\"news-article-list\")\n",
        "\n",
        "  # 記事リスト取得 ※スペシャル除く（article-special-item category-mma）\n",
        "  # elems_list = news.findAll(True, class_=\"article-news-item medium type-news\", class_=re.compile(r\"^l\"))\n",
        "  elems_list = news.findAll(True, class_=re.compile(r\"article-.*-item.*\"))\n",
        "\n",
        "  # データ格納用DataFrame\n",
        "  df = pd.DataFrame()\n",
        "\n",
        "  for el in elems_list:\n",
        "\n",
        "    div_date = el.find(\"div\", class_=re.compile(r\".*-date\"))\n",
        "\n",
        "    if re.fullmatch(DT_PATTERN, div_date.text):\n",
        "      date = datetime.datetime.strptime(div_date.text, '%Y.%m.%d')\n",
        "    else:\n",
        "      date = dt_today.replace(hour=0, minute=0, second=0, microsecond=0,tzinfo=None)\n",
        "\n",
        "    div_title = el.find(\"div\", class_=\"article-title\")\n",
        "    title = div_title.text\n",
        "\n",
        "    a = el.find(\"a\")\n",
        "    url = DOMAIN + a.get(\"href\")\n",
        "\n",
        "    df1 = pd.DataFrame([[date,\"GONG\",title,url]])\n",
        "\n",
        "    df = pd.concat([df,df1])\n",
        "\n",
        "  df = df.rename(columns={0:'Date',1: 'Source', 2: 'Title', 3: 'Url'})\n",
        "\n",
        "  return df\n"
      ]
    },
    {
      "cell_type": "code",
      "source": [
        "df_go = gong_topic()\n",
        "\n",
        "# 一覧を表示\n",
        "print(df_go)"
      ],
      "metadata": {
        "id": "qm4A7MMm9G_s"
      },
      "execution_count": null,
      "outputs": []
    }
  ]
}