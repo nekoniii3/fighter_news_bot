{
  "nbformat": 4,
  "nbformat_minor": 0,
  "metadata": {
    "colab": {
      "provenance": [],
      "authorship_tag": "ABX9TyM2sM5VeJ2mNBlc2fLZ7eWe",
      "include_colab_link": true
    },
    "kernelspec": {
      "name": "python3",
      "display_name": "Python 3"
    },
    "language_info": {
      "name": "python"
    }
  },
  "cells": [
    {
      "cell_type": "markdown",
      "metadata": {
        "id": "view-in-github",
        "colab_type": "text"
      },
      "source": [
        "<a href=\"https://colab.research.google.com/github/nekoniii3/fighter_news_bot/blob/main/bak/ENCOUNT%E3%81%8B%E3%82%89%E3%81%AE%E3%83%8B%E3%83%A5%E3%83%BC%E3%82%B9.ipynb\" target=\"_parent\"><img src=\"https://colab.research.google.com/assets/colab-badge.svg\" alt=\"Open In Colab\"/></a>"
      ]
    },
    {
      "cell_type": "markdown",
      "source": [
        "# **ENCOUNTからのニュース一覧を取得します<br>**\n",
        "https://encount.press/archives/category/martial-arts/mma/"
      ],
      "metadata": {
        "id": "poLWGgx-NJ82"
      }
    },
    {
      "cell_type": "code",
      "execution_count": 9,
      "metadata": {
        "id": "PfLUQ_e98mad"
      },
      "outputs": [],
      "source": [
        "import requests\n",
        "from bs4 import BeautifulSoup\n",
        "import pandas as pd\n",
        "import re\n",
        "import datetime\n",
        "\n",
        "# ENCOUNTからのニュースを取得（10件程度）\n",
        "def encount_topic():\n",
        "\n",
        "  URL = \"https://encount.press/archives/category/martial-arts/mma/\"\n",
        "\n",
        "  # データ格納用DataFrame\n",
        "  df = pd.DataFrame()\n",
        "\n",
        "  # HTMLの取得先として当サイトを指定する\n",
        "  response = requests.get(URL)\n",
        "\n",
        "  # BeautifulSoup4でサイトのテキストを取得し、\n",
        "  # 第二因数にhtml.parserを指定、解析結果をsoupに入れる\n",
        "\n",
        "  response.encoding = response.apparent_encoding\n",
        "\n",
        "  # print(response.text)\n",
        "  soup = BeautifulSoup(response.text,'html.parser')\n",
        "\n",
        "  # \"profile\"取得\n",
        "  elems_list = soup.find(\"ul\", class_=\"post-list--type01\")\n",
        "\n",
        "  # elems_match\n",
        "\n",
        "  # \"profile\"内の各項目を取得\n",
        "  elems_item = elems_list.findAll(\"div\", class_=\"post-list--type01__item\")\n",
        "\n",
        "  for el in elems_item:\n",
        "\n",
        "    h3 = el.find(\"h3\", class_=\"post-list--type01__ttl\")\n",
        "    title = h3.text\n",
        "\n",
        "    a = el.find(\"a\", class_=\"hover-effect\")\n",
        "    url = a.get(\"href\")\n",
        "\n",
        "    time = el.find(\"time\")\n",
        "    date = datetime.datetime.strptime(time.text, '%Y.%m.%d')\n",
        "\n",
        "    # df = df.append([[date,title,url]])\n",
        "    df1 = pd.DataFrame([[date,\"ENCOUNT\",title,url]])\n",
        "\n",
        "    df = pd.concat([df,df1])\n",
        "\n",
        "  df = df.rename(columns={0:'Date',1: 'Source', 2: 'Title', 3: 'Url'})\n",
        "\n",
        "  return df"
      ]
    },
    {
      "cell_type": "code",
      "source": [
        "df_en = encount_topic()\n",
        "\n",
        "print(df_en)"
      ],
      "metadata": {
        "id": "qm4A7MMm9G_s"
      },
      "execution_count": null,
      "outputs": []
    }
  ]
}